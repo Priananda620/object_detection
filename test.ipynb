{
 "cells": [
  {
   "cell_type": "code",
   "execution_count": 1,
   "metadata": {},
   "outputs": [],
   "source": [
    "import config\n",
    "from Token import FlusonicToken\n",
    "import queue\n",
    "import threading\n",
    "from Yolo import Yolov4\n",
    "import cv2\n",
    "import time\n",
    "from collections import defaultdict\n",
    "import numpy as np\n",
    "import math\n",
    "from collections import Counter\n",
    "\n",
    "from ultralytics import YOLO\n",
    "from ultralytics.solutions import object_counter\n",
    "from ultralytics.solutions import speed_estimation"
   ]
  },
  {
   "cell_type": "code",
   "execution_count": null,
   "metadata": {},
   "outputs": [],
   "source": [
    "FPS=20\n",
    "MAX_QUEUE_SIZE = FPS*3\n",
    "FRAME_DISPLAY_INTERVAL = 1 / FPS\n",
    "QUEUE_SIZE_MINIMUM_THRESHOLD = (FPS)"
   ]
  },
  {
   "cell_type": "code",
   "execution_count": null,
   "metadata": {},
   "outputs": [],
   "source": [
    "\n",
    "def render_text(text, left_box, frame, font_scale = .5):\n",
    "    font = cv2.FONT_HERSHEY_SIMPLEX\n",
    "    font_thickness = 2\n",
    "    text_size, _ = cv2.getTextSize(text, font, font_scale, font_thickness)\n",
    "    text_w, text_h = text_size\n",
    "\n",
    "    cv2.rectangle(\n",
    "        frame,\n",
    "        left_box,\n",
    "        (left_box[0] + text_w, left_box[1] + text_h + 2),\n",
    "        (255, 255, 255),\n",
    "        thickness=cv2.FILLED\n",
    "    )\n",
    "    \n",
    "    cv2.putText(\n",
    "        frame,\n",
    "        text,\n",
    "        (left_box[0], int(left_box[1] + text_h)),\n",
    "        font,\n",
    "        font_scale,\n",
    "        (0, 0, 0),\n",
    "        font_thickness,\n",
    "    )"
   ]
  }
 ],
 "metadata": {
  "kernelspec": {
   "display_name": "Python 3",
   "language": "python",
   "name": "python3"
  },
  "language_info": {
   "codemirror_mode": {
    "name": "ipython",
    "version": 3
   },
   "file_extension": ".py",
   "mimetype": "text/x-python",
   "name": "python",
   "nbconvert_exporter": "python",
   "pygments_lexer": "ipython3",
   "version": "3.12.1"
  }
 },
 "nbformat": 4,
 "nbformat_minor": 2
}
